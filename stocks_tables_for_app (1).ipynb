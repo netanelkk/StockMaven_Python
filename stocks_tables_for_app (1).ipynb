{
  "cells": [
    {
      "cell_type": "code",
      "source": [
        "import yfinance as yf"
      ],
      "metadata": {
        "id": "ozQm6lfqcSUM"
      },
      "execution_count": null,
      "outputs": []
    },
    {
      "cell_type": "code",
      "source": [
        "!pip install yfinance\n",
        "import yfinance as yf"
      ],
      "metadata": {
        "id": "WlGcnyUMjr_w"
      },
      "execution_count": null,
      "outputs": []
    },
    {
      "cell_type": "code",
      "execution_count": null,
      "metadata": {
        "id": "KAHXQfYO5tjh"
      },
      "outputs": [],
      "source": [
        "import numpy as np\n",
        "import pandas as pd\n",
        "import plotly.graph_objects as go\n",
        "\n",
        "import matplotlib.pyplot as plt\n",
        "import seaborn as sns\n",
        "sns.set_style('darkgrid')\n",
        "\n",
        "from pandas_datareader import DataReader\n",
        "import pandas_datareader as dr\n",
        "\n",
        "from datetime import datetime\n",
        "\n",
        "import warnings\n",
        "warnings.filterwarnings(\"ignore\")"
      ]
    },
    {
      "cell_type": "code",
      "source": [
        "import pandas as pd\n",
        "import numpy as np\n",
        "\n",
        "import matplotlib.pyplot as plt\n",
        "import seaborn as sns\n",
        "sns.set_style('whitegrid')\n",
        "plt.style.use(\"fivethirtyeight\")\n",
        "%matplotlib inline\n",
        "\n",
        "# For reading stock data from yahoo\n",
        "from pandas_datareader.data import DataReader\n",
        "import yfinance as yf\n",
        "\n",
        "# For time stamps\n",
        "from datetime import datetime, timedelta"
      ],
      "metadata": {
        "id": "qh-qOniRkyqY"
      },
      "execution_count": null,
      "outputs": []
    },
    {
      "cell_type": "code",
      "execution_count": null,
      "metadata": {
        "id": "KfDerJlS50BX"
      },
      "outputs": [],
      "source": [
        "start_date = datetime(2010, 1, 1)\n",
        "end_date = datetime(2023, 4, 5)"
      ]
    },
    {
      "cell_type": "code",
      "source": [
        "start_date = datetime.now() - timedelta(days=80)\n",
        "\n",
        "# Set the end date as yesterday's date\n",
        "end_date = datetime.now() - timedelta(days=1)\n"
      ],
      "metadata": {
        "id": "DIrIb_2lSGOn"
      },
      "execution_count": null,
      "outputs": []
    },
    {
      "cell_type": "code",
      "source": [
        "start_date_str = start_date.strftime('%Y-%m-%d')\n",
        "end_date_str = end_date.strftime('%Y-%m-%d')"
      ],
      "metadata": {
        "id": "l-Mfl5ZpSMQ6"
      },
      "execution_count": null,
      "outputs": []
    },
    {
      "cell_type": "code",
      "source": [
        "stocks_list =[\n",
        "  'AAPL',  'META',   'MSFT', 'GOOG', 'NKE',\n",
        "  'NFLX',  'ADBE',   'ZM',   'NVDA', 'HUBS',\n",
        "  'LH',    'ET',     'KBR',  'WMT',  'SYK',\n",
        "  'DE',    'APLS',   'HD',   'JBL',  'PSTG',\n",
        "  'PANW',  'SQ',     'PPL',  'ACGL', 'DDOG',\n",
        "  'GOOGL', 'ALV.DE', 'PZZA', 'STEM', 'GE',\n",
        "  'GM',    'SITM',   'BOX',  'SGEN', 'CTVA',\n",
        "  'DT',    'PLNT',   'GTLS', 'PRVA', 'DG.PA',\n",
        "  'PINS',  'CVE',    'VMC',  'GLOB', 'CPA',\n",
        "  'FTI',   'AEM',    'WCN'\n",
        "]\n",
        "for stock in stocks_list:\n",
        "    globals()[stock] = yf.download(stock, start_date, end_date)"
      ],
      "metadata": {
        "id": "9qJSELkjjp9y"
      },
      "execution_count": null,
      "outputs": []
    },
    {
      "cell_type": "code",
      "source": [
        "company_list =[\n",
        "  'AAPL',  'META',   'MSFT', 'GOOG', 'NKE',\n",
        "  'NFLX',  'ADBE',   'ZM',   'NVDA', 'HUBS',\n",
        "  'LH',    'ET',     'KBR',  'WMT',  'SYK',\n",
        "  'DE',    'APLS',   'HD',   'JBL',  'PSTG',\n",
        "  'PANW',  'SQ',     'PPL',  'ACGL', 'DDOG',\n",
        "  'GOOGL', 'ALV.DE', 'PZZA', 'STEM', 'GE',\n",
        "  'GM',    'SITM',   'BOX',  'SGEN', 'CTVA',\n",
        "  'DT',    'PLNT',   'GTLS', 'PRVA', 'DG.PA',\n",
        "  'PINS',  'CVE',    'VMC',  'GLOB', 'CPA',\n",
        "  'FTI',   'AEM',    'WCN'\n",
        "]\n",
        "\n",
        "company_name = [\n",
        "  'Apple Inc.',       'Meta',             'Microsoft',\n",
        "  'Google',           'Nike',             'Netflix',\n",
        "  'Adobe',            'Zoom Inc.',        'Nvidia',\n",
        "  'HubSpot',          'Laboratory Corp',  'Energy Transfer',\n",
        "  'KBR Inc',          'Walmart Inc.',     'Stryker Corp',\n",
        "  'Deere & Co',       'Apellis',          'Home Depot Inc.',\n",
        "  'Jabil Inc.',       'Pure Storage',     'Palo Alto',\n",
        "  'Block Inc.',       'PPL Corp',         'Arch Capital',\n",
        "  'Datadog Inc.',     'Alphabet Inc.',    'Allianz SE',\n",
        "  \"Papa John's\",      'Stem Inc.',        'General Electric',\n",
        "  'General Motors',   'SiTime Corp.',     'Box Inc.',\n",
        "  'Seagen Inc.',      'Corteva Inc.',     'Dynatrace Inc.',\n",
        "  'Planet Fitness',   'Chart Industries', 'Privia Health',\n",
        "  'Vinci S.A',        'Pinterest',        'Cenovus Energy',\n",
        "  'Vulcan Materials', 'Globant SA',       'Copa Holdings',\n",
        "  'TechnipFMC',       'Agnico Eagle',     'Waste Conn.'\n",
        "]\n",
        "\n",
        "df_list = []\n",
        "for company, com_name in zip(company_list, company_name):\n",
        "    company_df = globals()[company] # retrieve the corresponding dataframe\n",
        "    company_df[\"company_name\"] = com_name # assign the com_name variable to the company_name column of the dataframe\n",
        "    df_list.append(company_df)\n",
        "\n",
        "df = pd.concat(df_list, axis=0)\n",
        "df.tail(10)"
      ],
      "metadata": {
        "id": "yPDaXL28ozuP"
      },
      "execution_count": null,
      "outputs": []
    },
    {
      "cell_type": "code",
      "source": [
        "df"
      ],
      "metadata": {
        "id": "4d9MjMC6-wsK"
      },
      "execution_count": null,
      "outputs": []
    },
    {
      "cell_type": "code",
      "source": [
        "df.info()"
      ],
      "metadata": {
        "id": "rMymmV8b--0K"
      },
      "execution_count": null,
      "outputs": []
    },
    {
      "cell_type": "code",
      "source": [
        "snoppi_stocks = ['^GSPC']"
      ],
      "metadata": {
        "id": "eBoBmV1j_12L"
      },
      "execution_count": null,
      "outputs": []
    },
    {
      "cell_type": "code",
      "execution_count": null,
      "metadata": {
        "id": "ZsnAvFiP6FV9"
      },
      "outputs": [],
      "source": [
        "!pip install yfinance\n",
        "import yfinance as yf\n",
        "\n",
        "df_snopi = yf.download(snoppi_stocks, start_date, end_date, group_by='column')\n",
        "df_snopi\n",
        "df_snopi.reset_index(level=0, inplace=True)"
      ]
    },
    {
      "cell_type": "code",
      "source": [
        "for i in df_snopi.index[1:]:\n",
        "    df_snopi.at[i,\"GSPC_change_in_day_Adj\"] = ((df_snopi.at[i,\"Adj Close\"] - df_snopi.at[i,\"Open\"]) / df_snopi.at[i,\"Adj Close\"]) * 100\n",
        "    df_snopi.at[i,\"GSPC_change_in_day\"] = ((df_snopi.at[i,\"Close\"] - df_snopi.at[i,\"Open\"]) / df_snopi.at[i,\"Adj Close\"]) * 100\n",
        "    df_snopi.at[i,\"GSPC_change_in_day_open_high\"] = ((df_snopi.at[i,\"Open\"] - df_snopi.at[i,\"High\"]) / df_snopi.at[i,\"Adj Close\"]) * 100\n",
        "    df_snopi.at[i,\"GSPC_change_in_day_open_low\"] = ((df_snopi.at[i,\"Open\"] - df_snopi.at[i,\"Low\"]) / df_snopi.at[i,\"Adj Close\"]) * 100\n",
        "    df_snopi.at[i,\"GSPC_change_in_day_high_low\"] = ((df_snopi.at[i,\"High\"] - df_snopi.at[i,\"Low\"]) / df_snopi.at[i,\"Adj Close\"]) * 100"
      ],
      "metadata": {
        "id": "qOa6Uu6uqY8d"
      },
      "execution_count": null,
      "outputs": []
    },
    {
      "cell_type": "code",
      "source": [
        "df_snopi.rename(columns = {'Open':'Open_GSPC','High':'High_GSPC','Low':'Low_GSPC','Close':'Close_GSPC','Adj Close':'Adj Close_GSPC','Volume':'Volume_GSPC'}, inplace = True)"
      ],
      "metadata": {
        "id": "fO1vPeQXqa5y"
      },
      "execution_count": null,
      "outputs": []
    },
    {
      "cell_type": "code",
      "source": [
        "df_snopi"
      ],
      "metadata": {
        "id": "KzCho4iWqcfa"
      },
      "execution_count": null,
      "outputs": []
    },
    {
      "cell_type": "code",
      "execution_count": null,
      "metadata": {
        "id": "HSWa5A7T6NcO"
      },
      "outputs": [],
      "source": [
        "vix_stock = ['^VIX']"
      ]
    },
    {
      "cell_type": "code",
      "execution_count": null,
      "metadata": {
        "id": "TMSiBna86Tuo"
      },
      "outputs": [],
      "source": [
        "!pip install yfinance\n",
        "import yfinance as yf\n",
        "\n",
        "df_vix = yf.download(vix_stock, start_date, end_date, group_by='column')\n",
        "df_vix\n",
        "df_vix.reset_index(level=0, inplace=True)"
      ]
    },
    {
      "cell_type": "code",
      "execution_count": null,
      "metadata": {
        "id": "V4JanJtG7k-u"
      },
      "outputs": [],
      "source": [
        "df"
      ]
    },
    {
      "cell_type": "code",
      "source": [
        "for i in df_vix.index[1:]:\n",
        "    df_vix.at[i,\"VIX_change_in_day_Adj\"] = ((df_vix.at[i,\"Adj Close\"] - df_vix.at[i,\"Open\"]) / df_vix.at[i,\"Adj Close\"]) * 100\n",
        "    df_vix.at[i,\"VIX_change_in_day\"] = ((df_vix.at[i,\"Close\"] - df_vix.at[i,\"Open\"]) / df_vix.at[i,\"Adj Close\"]) * 100\n",
        "    df_vix.at[i,\"VIX_change_in_day_open_high\"] = ((df_vix.at[i,\"Open\"] - df_vix.at[i,\"High\"]) / df_vix.at[i,\"Adj Close\"]) * 100\n",
        "    df_vix.at[i,\"VIX_change_in_day_open_low\"] = ((df_vix.at[i,\"Open\"] - df_vix.at[i,\"Low\"]) / df_vix.at[i,\"Adj Close\"]) * 100\n",
        "    df_vix.at[i,\"VIX_change_in_day_high_low\"] = ((df_vix.at[i,\"High\"] - df_vix.at[i,\"Low\"]) / df_vix.at[i,\"Adj Close\"]) * 100"
      ],
      "metadata": {
        "id": "-X3HMigOZ4wS"
      },
      "execution_count": null,
      "outputs": []
    },
    {
      "cell_type": "code",
      "source": [
        "df_vix.rename(columns = {'Open':'Open_VIX','High':'High_VIX','Low':'Low_VIX','Close':'Close_VIX','Adj Close':'Adj Close_VIX','Volume':'Volume_VIX'}, inplace = True)"
      ],
      "metadata": {
        "id": "dYQkuv6Aqgrl"
      },
      "execution_count": null,
      "outputs": []
    },
    {
      "cell_type": "code",
      "execution_count": null,
      "metadata": {
        "id": "wQx6-sWn7tYY"
      },
      "outputs": [],
      "source": [
        "df_vix"
      ]
    },
    {
      "cell_type": "code",
      "source": [
        "df = pd.merge(df,df_snopi,on='Date')"
      ],
      "metadata": {
        "id": "4t0EgaR6_-M5"
      },
      "execution_count": null,
      "outputs": []
    },
    {
      "cell_type": "code",
      "source": [
        "df = pd.merge(df,df_vix,on='Date')"
      ],
      "metadata": {
        "id": "G6IMMEAzAAax"
      },
      "execution_count": null,
      "outputs": []
    },
    {
      "cell_type": "code",
      "source": [
        "df.drop(\"Volume_VIX\",axis='columns',inplace = True)"
      ],
      "metadata": {
        "id": "D_e8zFzvAChl"
      },
      "execution_count": null,
      "outputs": []
    },
    {
      "cell_type": "code",
      "source": [
        "df = df.sort_values([\"company_name\", \"Date\"], ascending=[True, False]).reset_index(drop=True)"
      ],
      "metadata": {
        "id": "JW__NkZ3AELx"
      },
      "execution_count": null,
      "outputs": []
    },
    {
      "cell_type": "code",
      "source": [
        "df"
      ],
      "metadata": {
        "id": "szJ1Fc9JABNg"
      },
      "execution_count": null,
      "outputs": []
    },
    {
      "cell_type": "code",
      "source": [
        "for i in df.index[1:]:\n",
        "  if df.at[i,\"company_name\"] == df.at[i-1,\"company_name\"]:\n",
        "    df.at[i,\"stock_change_target\"] = ((df.at[i-1,\"Adj Close\"] - df.at[i,\"Adj Close\"]) / df.at[i-1,\"Adj Close\"]) * 100\n",
        "    df.at[i,\"stock_change_in_day_Adj\"] = ((df.at[i-1,\"Adj Close\"] - df.at[i-1,\"Open\"]) / df.at[i-1,\"Adj Close\"]) * 100\n",
        "    df.at[i,\"stock_change_in_day\"] = ((df.at[i-1,\"Close\"] - df.at[i-1,\"Open\"]) / df.at[i-1,\"Adj Close\"]) * 100\n",
        "    df.at[i,\"stock_change_in_day_open_high\"] = ((df.at[i-1,\"Open\"] - df.at[i-1,\"High\"]) / df.at[i-1,\"Adj Close\"]) * 100\n",
        "    df.at[i,\"stock_change_in_day_open_low\"] = ((df.at[i-1,\"Open\"] - df.at[i-1,\"Low\"]) / df.at[i-1,\"Adj Close\"]) * 100\n",
        "    df.at[i,\"stock_change_in_day_high_low\"] = ((df.at[i-1,\"High\"] - df.at[i-1,\"Low\"]) / df.at[i-1,\"Adj Close\"]) * 100\n"
      ],
      "metadata": {
        "id": "ypgjxX08oDUr"
      },
      "execution_count": null,
      "outputs": []
    },
    {
      "cell_type": "code",
      "source": [
        "grouped = df.groupby('company_name')\n",
        "\n",
        "# Define the min-max normalization function\n",
        "def min_max_normalize(x):\n",
        "    return (x - x.min()) / (x.max() - x.min())\n",
        "\n",
        "# Apply the min-max normalization function to the Volume column for each group\n",
        "df['Volume_normalized'] = grouped['Volume'].apply(min_max_normalize)"
      ],
      "metadata": {
        "id": "04NKoQq0AHTe"
      },
      "execution_count": null,
      "outputs": []
    },
    {
      "cell_type": "code",
      "source": [
        "from sklearn.preprocessing import MinMaxScaler\n",
        "scaler = MinMaxScaler()\n",
        "df['Volume_GSPC_normalized'] = scaler.fit_transform(df[['Volume_GSPC']])"
      ],
      "metadata": {
        "id": "RpqH6_WbAIzn"
      },
      "execution_count": null,
      "outputs": []
    },
    {
      "cell_type": "code",
      "source": [
        "df"
      ],
      "metadata": {
        "id": "BPPD70iwoRkn"
      },
      "execution_count": null,
      "outputs": []
    },
    {
      "cell_type": "code",
      "source": [
        "df"
      ],
      "metadata": {
        "id": "qeBYU2qGXA3R"
      },
      "execution_count": null,
      "outputs": []
    },
    {
      "cell_type": "code",
      "source": [
        "df.info"
      ],
      "metadata": {
        "id": "2U0a7Arekhnx"
      },
      "execution_count": null,
      "outputs": []
    },
    {
      "cell_type": "code",
      "source": [
        "ma_day = [10, 20, 50]\n",
        "\n",
        "for ma in ma_day:\n",
        "    column_name = f\"GSPC_MA_for_{ma}_days\"\n",
        "    df[column_name] = df['GSPC_change_in_day_Adj'].rolling(ma).mean()"
      ],
      "metadata": {
        "id": "wMlNjE7IqIyh"
      },
      "execution_count": null,
      "outputs": []
    },
    {
      "cell_type": "code",
      "source": [
        "ma_day = [10, 20, 50]\n",
        "\n",
        "for i in ma_day:\n",
        "    column_name = f\"VIX_MA_for_{ma}_days\"\n",
        "    df[column_name] = df['VIX_change_in_day_Adj'].rolling(ma).mean()\n",
        "\n"
      ],
      "metadata": {
        "id": "y2oBE6q2qIjs"
      },
      "execution_count": null,
      "outputs": []
    },
    {
      "cell_type": "code",
      "source": [
        "day_names = ['is_Monday', 'is_Tuesday', 'is_Wednesday', 'is_Thursday', 'is_Friday', 'is_Saturday', 'is_Sunday']\n",
        "\n",
        "for i, x in enumerate(day_names):\n",
        "    df[x] = df['Date'].dt.weekday.apply(lambda x: 1 if x == i else 0)"
      ],
      "metadata": {
        "id": "8-O9WgAdGuq1"
      },
      "execution_count": null,
      "outputs": []
    },
    {
      "cell_type": "code",
      "source": [
        "df"
      ],
      "metadata": {
        "id": "ZDDUCD-VMUF0"
      },
      "execution_count": null,
      "outputs": []
    },
    {
      "cell_type": "code",
      "source": [
        "for i, row in df.iterrows():\n",
        "  if df.at[i,\"stock_change_target\"]\t>= 0:\n",
        "    df.at[i,\"target\"] = 1\n",
        "  if df.at[i,\"stock_change_target\"]\t< 0:\n",
        "    df.at[i,\"target\"] = 0\n",
        "  # if df_apple_full.at[i,\"apple_change_p\"]\t>= -0.5 and df_apple_full.at[i,\"apple_change_p\"]\t<= 0.5:\n",
        "  #   df_apple_full.at[i,\"target\"] = 0"
      ],
      "metadata": {
        "id": "tXiIvX1ZMd1N"
      },
      "execution_count": null,
      "outputs": []
    },
    {
      "cell_type": "code",
      "source": [
        "df"
      ],
      "metadata": {
        "id": "P8lAcCzSWLJc"
      },
      "execution_count": null,
      "outputs": []
    },
    {
      "cell_type": "code",
      "source": [
        "df.info"
      ],
      "metadata": {
        "id": "njckTKZOrUGU"
      },
      "execution_count": null,
      "outputs": []
    },
    {
      "cell_type": "code",
      "source": [
        "dummy_df = pd.get_dummies(df[\"company_name\"], prefix=\"company\")\n",
        "\n",
        "# concatenate the dummy variables with the original dataframe\n",
        "df = pd.concat([df, dummy_df], axis=1)\n",
        "\n",
        "# drop the original \"company_name\" column\n",
        "df.drop(\"company_name\", axis=1, inplace=True)\n",
        "\n",
        "print(df.head())"
      ],
      "metadata": {
        "id": "6mMSPSQ5rk-Y"
      },
      "execution_count": null,
      "outputs": []
    },
    {
      "cell_type": "code",
      "source": [
        "df.info"
      ],
      "metadata": {
        "id": "Rq88otrAr6g-"
      },
      "execution_count": null,
      "outputs": []
    },
    {
      "cell_type": "code",
      "source": [
        "df = df.dropna(subset=df.columns[1:], axis=0)\n",
        "\n"
      ],
      "metadata": {
        "id": "13zKZcsUsBtn"
      },
      "execution_count": null,
      "outputs": []
    },
    {
      "cell_type": "code",
      "source": [
        "df.info"
      ],
      "metadata": {
        "id": "SDPAffKJsDWW"
      },
      "execution_count": null,
      "outputs": []
    },
    {
      "cell_type": "code",
      "source": [
        "df"
      ],
      "metadata": {
        "id": "OWNm_Nb2T_Fc"
      },
      "execution_count": null,
      "outputs": []
    },
    {
      "cell_type": "code",
      "execution_count": null,
      "metadata": {
        "id": "CogqHXsFV_FQ"
      },
      "outputs": [],
      "source": [
        "df_data_for_models = df.drop(columns=['Volume','Volume_GSPC','Open', 'Open_GSPC', 'High_GSPC' , 'Low_GSPC',  'High',    'Low',  'Close','Adj Close','Open',   'High',    'Low',  'Close_GSPC','Adj Close_GSPC','Open_VIX',   'High_VIX',    'Low_VIX',  'Close_VIX','Adj Close_VIX',])"
      ]
    },
    {
      "cell_type": "code",
      "source": [
        "df_data_for_models"
      ],
      "metadata": {
        "id": "YFwx8a2DlK1H"
      },
      "execution_count": null,
      "outputs": []
    },
    {
      "cell_type": "code",
      "source": [
        "df_data_for_models.info()"
      ],
      "metadata": {
        "id": "JBj0QIq0NdeV"
      },
      "execution_count": null,
      "outputs": []
    },
    {
      "cell_type": "code",
      "source": [
        "df_data_for_models = df_data_for_models.dropna()"
      ],
      "metadata": {
        "id": "ONIv6Fik6CBp"
      },
      "execution_count": null,
      "outputs": []
    },
    {
      "cell_type": "code",
      "source": [
        "X = df_data_for_models.drop('target', axis=1)\n",
        "y = df_data_for_models.target"
      ],
      "metadata": {
        "id": "9kUtJmkXJyyU"
      },
      "execution_count": null,
      "outputs": []
    },
    {
      "cell_type": "code",
      "source": [
        "X"
      ],
      "metadata": {
        "id": "cuaK-Pn6FXfN"
      },
      "execution_count": null,
      "outputs": []
    },
    {
      "cell_type": "code",
      "source": [
        "y"
      ],
      "metadata": {
        "id": "wGOpqhivH1FM"
      },
      "execution_count": null,
      "outputs": []
    },
    {
      "cell_type": "code",
      "source": [
        "df_data_for_models.head()"
      ],
      "metadata": {
        "id": "z6HV7Gb9fJAm"
      },
      "execution_count": null,
      "outputs": []
    },
    {
      "cell_type": "markdown",
      "source": [
        "test upload modle"
      ],
      "metadata": {
        "id": "qvGdvHAijIFe"
      }
    },
    {
      "cell_type": "code",
      "source": [
        "# import pickle\n",
        "\n",
        "# # Load the saved random forest model\n",
        "# with open('random_forest_model.pkl', 'rb') as f:\n",
        "#     loaded_rf = pickle.load(f)"
      ],
      "metadata": {
        "id": "3j9jlsidjI8r"
      },
      "execution_count": null,
      "outputs": []
    },
    {
      "cell_type": "code",
      "source": [],
      "metadata": {
        "id": "994fwSmhlVzd"
      },
      "execution_count": null,
      "outputs": []
    },
    {
      "cell_type": "code",
      "source": [
        "# X_scaled= df_data_for_models.drop(columns=['target','stock_change_target'])\n",
        "# y = df_data_for_models['target']"
      ],
      "metadata": {
        "id": "P8xUigXbQKwX"
      },
      "execution_count": null,
      "outputs": []
    },
    {
      "cell_type": "code",
      "source": [
        "# from sklearn.model_selection import train_test_split\n",
        "# X_train, X_test, y_train, y_test = train_test_split(X_scaled, y, test_size=0.3, random_state=1234)\n",
        "# train_df = pd.merge(left=X_train, right=y_train, left_index=True, right_index=True)\n",
        "# test_df = pd.merge(left=X_test, right=y_test, left_index=True, right_index=True)\n",
        "# train_df.head(10)"
      ],
      "metadata": {
        "id": "isGLfvZg3jOb"
      },
      "execution_count": null,
      "outputs": []
    },
    {
      "cell_type": "code",
      "source": [
        "# from sklearn import preprocessing"
      ],
      "metadata": {
        "id": "g9pokXhT4WqH"
      },
      "execution_count": null,
      "outputs": []
    },
    {
      "cell_type": "code",
      "source": [
        "# encoder = preprocessing.LabelEncoder()\n",
        "\n",
        "# # encoding train labels\n",
        "# encoder.fit(y_train)\n",
        "# y_train_n = encoder.transform(y_train)\n",
        "\n",
        "# # encoding test labels\n",
        "# encoder.fit(y_test)\n",
        "# y_test_n = encoder.transform(y_test)\n",
        "# print(y_test[0:5].to_list())\n",
        "# print(y_test_n[0:5])"
      ],
      "metadata": {
        "id": "0BVJRxEr4CFQ"
      },
      "execution_count": null,
      "outputs": []
    },
    {
      "cell_type": "code",
      "source": [
        "# X_train.info()"
      ],
      "metadata": {
        "id": "tVCrF4i6ONIA"
      },
      "execution_count": null,
      "outputs": []
    },
    {
      "cell_type": "code",
      "source": [
        "# X_test.info()"
      ],
      "metadata": {
        "id": "9Q_QSHGlNKQI"
      },
      "execution_count": null,
      "outputs": []
    },
    {
      "cell_type": "code",
      "source": [
        "# from sklearn import svm"
      ],
      "metadata": {
        "id": "dEJwFQR13k4p"
      },
      "execution_count": null,
      "outputs": []
    },
    {
      "cell_type": "code",
      "source": [
        "# linearCls = svm.SVC().set_params(kernel='linear')\n",
        "# polyCls = svm.SVC().set_params(kernel='poly')\n",
        "# rbfCls = svm.SVC().set_params(kernel='rbf')"
      ],
      "metadata": {
        "id": "zqwAj7WZ30Ix"
      },
      "execution_count": null,
      "outputs": []
    },
    {
      "cell_type": "code",
      "source": [
        "# linearCls.fit(X_train, y_train_n)"
      ],
      "metadata": {
        "id": "X5McvSo332Hp"
      },
      "execution_count": null,
      "outputs": []
    },
    {
      "cell_type": "code",
      "source": [
        "# polyCls.fit(X_train, y_train_n)"
      ],
      "metadata": {
        "id": "G-TIJkeObNRZ"
      },
      "execution_count": null,
      "outputs": []
    },
    {
      "cell_type": "code",
      "source": [
        "# rbfCls.fit(X_train, y_train_n)"
      ],
      "metadata": {
        "id": "lgh9vbO7bOdY"
      },
      "execution_count": null,
      "outputs": []
    },
    {
      "cell_type": "code",
      "source": [
        "# X = df_data_for_models.drop(columns=['target','stock_change_target'])\n",
        "# y = df_data_for_models['target']"
      ],
      "metadata": {
        "id": "qf072Y6hPR7y"
      },
      "execution_count": null,
      "outputs": []
    },
    {
      "cell_type": "code",
      "source": [
        "# X"
      ],
      "metadata": {
        "id": "7y4rpeKzQQho"
      },
      "execution_count": null,
      "outputs": []
    },
    {
      "cell_type": "code",
      "source": [
        "# from sklearn.model_selection import train_test_split\n",
        "# X_train, X_test, y_train, y_test = train_test_split(X_scaled, y, test_size=0.3, random_state=42)\n",
        "# train_df = pd.merge(left=X_train, right=y_train, left_index=True, right_index=True)\n",
        "# test_df = pd.merge(left=X_test, right=y_test, left_index=True, right_index=True)\n",
        "# train_df.head(5)"
      ],
      "metadata": {
        "id": "wtBIsr3OPOV0"
      },
      "execution_count": null,
      "outputs": []
    },
    {
      "cell_type": "code",
      "source": [
        "# from sklearn.neighbors import KNeighborsClassifier"
      ],
      "metadata": {
        "id": "iDm5tlQsRxcs"
      },
      "execution_count": null,
      "outputs": []
    },
    {
      "cell_type": "code",
      "source": [
        "# knn = KNeighborsClassifier(n_neighbors = 1)"
      ],
      "metadata": {
        "id": "ih_QhKfxR2rg"
      },
      "execution_count": null,
      "outputs": []
    },
    {
      "cell_type": "code",
      "source": [
        "# knn.fit(X_train, y_train)"
      ],
      "metadata": {
        "id": "NE6p-bnOR5_v"
      },
      "execution_count": null,
      "outputs": []
    },
    {
      "cell_type": "code",
      "source": [
        "# prediction = knn.predict(X_train)"
      ],
      "metadata": {
        "id": "O9BkqqHLR7uS"
      },
      "execution_count": null,
      "outputs": []
    },
    {
      "cell_type": "code",
      "source": [
        "# y_train_pred = pd.Series(prediction, name='prediction', index=y_train.index)\n",
        "\n",
        "# train_results = pd.DataFrame(data={'prediction':y_train_pred, 'actual':y_train})\n",
        "# train_results"
      ],
      "metadata": {
        "id": "Ki_khK5LR9yW"
      },
      "execution_count": null,
      "outputs": []
    },
    {
      "cell_type": "code",
      "source": [
        "# len_correct_rows = len(train_results.loc[train_results.prediction==train_results.actual])\n",
        "# accuracy = round(len_correct_rows/len(train_results),3)\n",
        "# print('accuracy = ', accuracy)\n",
        "\n",
        "# from sklearn import metrics\n",
        "# accu = metrics.accuracy_score(y_train, y_train_pred)\n",
        "# accu"
      ],
      "metadata": {
        "id": "tEP9A8t0R_6w"
      },
      "execution_count": null,
      "outputs": []
    },
    {
      "cell_type": "code",
      "source": [
        "# y_pred = knn.predict(X_test)\n",
        "\n",
        "# y_test_pred = pd.Series(y_pred, name='prediction', index=y_test.index)\n",
        "\n",
        "# test_results = pd.DataFrame(data={'prediction':y_test_pred, 'actual':y_test})\n",
        "# test_results"
      ],
      "metadata": {
        "id": "ecbEt4HQSDdc"
      },
      "execution_count": null,
      "outputs": []
    },
    {
      "cell_type": "code",
      "source": [
        "# from sklearn.metrics import classification_report, confusion_matrix, ConfusionMatrixDisplay"
      ],
      "metadata": {
        "id": "xx9urFDKSI4g"
      },
      "execution_count": null,
      "outputs": []
    },
    {
      "cell_type": "code",
      "source": [
        "# confusion = confusion_matrix(y_test, y_pred)\n",
        "# print(confusion)"
      ],
      "metadata": {
        "id": "3MkF07lySLXt"
      },
      "execution_count": null,
      "outputs": []
    },
    {
      "cell_type": "code",
      "source": [
        "# disp = ConfusionMatrixDisplay(confusion, display_labels=knn.classes_)\n",
        "# disp.plot()"
      ],
      "metadata": {
        "id": "LT7c1K1_SNbj"
      },
      "execution_count": null,
      "outputs": []
    },
    {
      "cell_type": "code",
      "source": [
        "# print(classification_report(y_test, y_pred))"
      ],
      "metadata": {
        "id": "iZVLtIX0SQM5"
      },
      "execution_count": null,
      "outputs": []
    },
    {
      "cell_type": "code",
      "source": [
        "# import numpy as np\n",
        "# error_rate = []\n",
        "# for i in range(1,200):\n",
        "#     knn = KNeighborsClassifier(n_neighbors = i)\n",
        "#     knn.fit(X_train, y_train)\n",
        "#     pred_i = knn.predict(X_test)\n",
        "#     error_rate.append(np.mean(pred_i != y_test))"
      ],
      "metadata": {
        "id": "tQriHd1xSRZa"
      },
      "execution_count": null,
      "outputs": []
    },
    {
      "cell_type": "code",
      "source": [
        "# trace = go.Scatter(\n",
        "#     x=[i for i in range(1,200)],\n",
        "#     y=error_rate,\n",
        "#     mode='markers+lines',\n",
        "# )\n",
        "# fig = go.Figure(trace)\n",
        "# fig.update_layout(\n",
        "#     title='Error by K Value',\n",
        "#     xaxis_title='k neighboors',\n",
        "#     yaxis_title='Error rate'\n",
        "# )\n",
        "\n",
        "# fig.show()"
      ],
      "metadata": {
        "id": "LglEK94VSUJQ"
      },
      "execution_count": null,
      "outputs": []
    },
    {
      "cell_type": "code",
      "source": [
        "# from sklearn import metrics\n",
        "# knn = KNeighborsClassifier(n_neighbors = 5)\n",
        "# knn.fit(X_train, y_train)\n",
        "# pred_train = knn.predict(X_train)\n",
        "# print(metrics.accuracy_score(y_train, pred_train))\n",
        "\n",
        "# print('===========================================')\n",
        "\n",
        "# pred = knn.predict(X_test)\n",
        "# print(confusion_matrix(y_test, pred))\n",
        "# print(classification_report(y_test, pred))\n",
        "\n",
        "# print(knn.score(X_train, y_train))"
      ],
      "metadata": {
        "id": "F4c5Ea5mq6Fl"
      },
      "execution_count": null,
      "outputs": []
    },
    {
      "cell_type": "code",
      "source": [
        "# from sklearn import metrics\n",
        "# knn = KNeighborsClassifier(n_neighbors = 7)\n",
        "# knn.fit(X_train, y_train)\n",
        "# pred_train = knn.predict(X_train)\n",
        "# print(metrics.accuracy_score(y_train, pred_train))\n",
        "\n",
        "# print('===========================================')\n",
        "\n",
        "# pred = knn.predict(X_test)\n",
        "# print(confusion_matrix(y_test, pred))\n",
        "# print(classification_report(y_test, pred))\n",
        "\n",
        "# print(knn.score(X_train, y_train))"
      ],
      "metadata": {
        "id": "WetKi_-brAyr"
      },
      "execution_count": null,
      "outputs": []
    },
    {
      "cell_type": "code",
      "source": [
        "# from sklearn import metrics\n",
        "# knn = KNeighborsClassifier(n_neighbors = 13)\n",
        "# knn.fit(X_train, y_train)\n",
        "# pred_train = knn.predict(X_train)\n",
        "# print(metrics.accuracy_score(y_train, pred_train))\n",
        "\n",
        "# print('===========================================')\n",
        "\n",
        "# pred = knn.predict(X_test)\n",
        "# print(confusion_matrix(y_test, pred))\n",
        "# print(classification_report(y_test, pred))\n",
        "\n",
        "# print(knn.score(X_train, y_train))"
      ],
      "metadata": {
        "id": "6-6Y2X63hxHu"
      },
      "execution_count": null,
      "outputs": []
    },
    {
      "cell_type": "code",
      "source": [
        "# from sklearn import metrics\n",
        "# knn = KNeighborsClassifier(n_neighbors = 9)\n",
        "# knn.fit(X_train, y_train)\n",
        "# pred_train = knn.predict(X_train)\n",
        "# print(metrics.accuracy_score(y_train, pred_train))\n",
        "\n",
        "# print('===========================================')\n",
        "\n",
        "# pred = knn.predict(X_test)\n",
        "# print(confusion_matrix(y_test, pred))\n",
        "# print(classification_report(y_test, pred))\n",
        "\n",
        "# print(knn.score(X_train, y_train))"
      ],
      "metadata": {
        "id": "yw1fRLZk-M5r"
      },
      "execution_count": null,
      "outputs": []
    },
    {
      "cell_type": "code",
      "source": [
        "# from sklearn.ensemble import RandomForestClassifier\n",
        "# rfc = RandomForestClassifier(n_estimators=30,criterion='entropy')"
      ],
      "metadata": {
        "id": "NbG8kFvOCRkI"
      },
      "execution_count": null,
      "outputs": []
    },
    {
      "cell_type": "code",
      "source": [
        "# rfc.fit(X_train,y_train)"
      ],
      "metadata": {
        "id": "TUWnbOZhCUhb"
      },
      "execution_count": null,
      "outputs": []
    },
    {
      "cell_type": "code",
      "source": [
        "# y_predict = rfc.predict(X_test)"
      ],
      "metadata": {
        "id": "4cX-tHcCCW2s"
      },
      "execution_count": null,
      "outputs": []
    },
    {
      "cell_type": "code",
      "source": [
        "# print(confusion_matrix(y_test,y_predict))\n",
        "# print('----------------------------------------------------------')\n",
        "# print(classification_report(y_test,y_predict))"
      ],
      "metadata": {
        "id": "bssqmX10CX99"
      },
      "execution_count": null,
      "outputs": []
    },
    {
      "cell_type": "code",
      "source": [
        "# from sklearn.model_selection import cross_val_score\n",
        "# auc_scores = cross_val_score(rfc, X, y, cv=10, scoring='roc_auc')\n",
        "# auc_scores"
      ],
      "metadata": {
        "id": "K8DA-gLGCZYc"
      },
      "execution_count": null,
      "outputs": []
    },
    {
      "cell_type": "code",
      "source": [
        "# accuracy_scores = cross_val_score(rfc, X, y, cv=10, scoring='accuracy')\n",
        "# accuracy_scores"
      ],
      "metadata": {
        "id": "uHnf6k5hCa0t"
      },
      "execution_count": null,
      "outputs": []
    },
    {
      "cell_type": "code",
      "source": [
        "# print('Mean values')\n",
        "# print('auc:', auc_scores.mean())\n",
        "# print('accuracy: ', accuracy_scores.mean())\n"
      ],
      "metadata": {
        "id": "Q_1ZTmSWCbwk"
      },
      "execution_count": null,
      "outputs": []
    },
    {
      "cell_type": "code",
      "source": [
        "# from sklearn.linear_model import LogisticRegression"
      ],
      "metadata": {
        "id": "dcmfF7g0C0fl"
      },
      "execution_count": null,
      "outputs": []
    },
    {
      "cell_type": "code",
      "source": [
        "# logmodel = LogisticRegression()\n",
        "# logmodel.fit(X_train,y_train)"
      ],
      "metadata": {
        "id": "ZL-oS9HJC1yl"
      },
      "execution_count": null,
      "outputs": []
    },
    {
      "cell_type": "code",
      "source": [
        "# probability = logmodel.predict_proba(X_train)\n",
        "# prediction = logmodel.predict(X_train)\n",
        "# prediction"
      ],
      "metadata": {
        "id": "upHpF0uhC1pa"
      },
      "execution_count": null,
      "outputs": []
    },
    {
      "cell_type": "code",
      "source": [
        "# y_train_prob_0 = pd.Series(probability[:,0], name ='probability_0', index=y_train.index)\n",
        "# y_train_prob_1 = pd.Series(probability[:,1], name ='probability_1', index=y_train.index)\n",
        "# y_train_pred   = pd.Series(prediction      , name ='prediction'   , index=y_train.index)\n",
        "\n",
        "# train_results = pd.DataFrame(data={'probability_0':y_train_prob_0, 'probability_1':y_train_prob_1,'prediction':y_train_pred, 'actual':y_train})\n",
        "# train_results"
      ],
      "metadata": {
        "id": "eb_owRYVC1cc"
      },
      "execution_count": null,
      "outputs": []
    },
    {
      "cell_type": "code",
      "source": [
        "# correct_rows = len(train_results.loc[train_results.prediction == train_results.actual])\n",
        "# correct_rows"
      ],
      "metadata": {
        "id": "zwaEUQnuDS8f"
      },
      "execution_count": null,
      "outputs": []
    },
    {
      "cell_type": "code",
      "source": [
        "# accuracy = round(correct_rows/len(train_results),2)\n",
        "# print(str(accuracy) + '%')"
      ],
      "metadata": {
        "id": "nXQKupfOJHMY"
      },
      "execution_count": null,
      "outputs": []
    },
    {
      "cell_type": "code",
      "source": [
        "# from sklearn.metrics import confusion_matrix\n",
        "# from sklearn.metrics import classification_report\n",
        "\n",
        "# print(confusion_matrix(y_test,y_predict))\n",
        "# print('----------------------------------------------------------')\n",
        "# print(classification_report(y_test,y_predict))\n"
      ],
      "metadata": {
        "id": "P1921QDKpgx1"
      },
      "execution_count": null,
      "outputs": []
    },
    {
      "cell_type": "code",
      "source": [
        "# probability = logmodel.predict_proba(X_test)\n",
        "# prediction = logmodel.predict(X_test)"
      ],
      "metadata": {
        "id": "eIbWg0XtJKAV"
      },
      "execution_count": null,
      "outputs": []
    },
    {
      "cell_type": "code",
      "source": [
        "# y_test_prob_0 =pd.Series(probability[:,0], name='probability_0', index=y_test.index)\n",
        "# y_test_prob_1 =pd.Series(probability[:,1], name='probability_1', index=y_test.index)\n",
        "# y_test_pred = pd.Series(prediction, name='prediction', index=y_test.index)\n",
        "\n",
        "# test_results = pd.DataFrame(data={'probability_0':y_test_prob_0, 'probability_1':y_test_prob_1,'prediction':y_test_pred, 'actual':y_test})\n",
        "# test_results"
      ],
      "metadata": {
        "id": "562OOxt7JLl2"
      },
      "execution_count": null,
      "outputs": []
    },
    {
      "cell_type": "code",
      "source": [
        "# accuracy = round(correct_rows/len(test_results),2)\n",
        "# accuracy"
      ],
      "metadata": {
        "id": "GXU-Qj46JOWH"
      },
      "execution_count": null,
      "outputs": []
    },
    {
      "cell_type": "code",
      "source": [
        "# from sklearn.svm import SVC\n",
        "# from sklearn.metrics import accuracy_score\n",
        "\n",
        "# # Initialize the SVM classifier\n",
        "# clf = SVC()\n",
        "\n",
        "# # Train the classifier on the training data\n",
        "# clf.fit(X_train, y_train)\n",
        "\n",
        "# # Make predictions on the test set\n",
        "# y_pred = clf.predict(X_test)\n",
        "\n",
        "# # Calculate the accuracy of the classifier\n",
        "# accuracy = accuracy_score(y_test, y_pred)\n",
        "# print(f'Accuracy: {accuracy:.2f}')\n",
        "\n",
        "# print(confusion_matrix(y_test,y_predict))\n",
        "# print('----------------------------------------------------------')\n",
        "# print(classification_report(y_test,y_predict))\n"
      ],
      "metadata": {
        "id": "QGB2WXf3Peq7"
      },
      "execution_count": null,
      "outputs": []
    }
  ],
  "metadata": {
    "colab": {
      "provenance": [],
      "private_outputs": true
    },
    "kernelspec": {
      "display_name": "Python 3",
      "name": "python3"
    },
    "language_info": {
      "name": "python"
    },
    "gpuClass": "standard"
  },
  "nbformat": 4,
  "nbformat_minor": 0
}