{
  "cells": [
    {
      "cell_type": "code",
      "source": [
        "import yfinance as yf"
      ],
      "metadata": {
        "id": "ozQm6lfqcSUM"
      },
      "execution_count": null,
      "outputs": []
    },
    {
      "cell_type": "code",
      "source": [
        "!pip install yfinance\n",
        "import yfinance as yf"
      ],
      "metadata": {
        "id": "WlGcnyUMjr_w"
      },
      "execution_count": null,
      "outputs": []
    },
    {
      "cell_type": "code",
      "execution_count": null,
      "metadata": {
        "id": "KAHXQfYO5tjh"
      },
      "outputs": [],
      "source": [
        "import numpy as np\n",
        "import pandas as pd\n",
        "import plotly.graph_objects as go\n",
        "\n",
        "import matplotlib.pyplot as plt\n",
        "import seaborn as sns\n",
        "sns.set_style('darkgrid')\n",
        "\n",
        "from pandas_datareader import DataReader\n",
        "import pandas_datareader as dr\n",
        "\n",
        "from datetime import datetime\n",
        "\n",
        "import warnings\n",
        "warnings.filterwarnings(\"ignore\")"
      ]
    },
    {
      "cell_type": "code",
      "source": [
        "import pandas as pd\n",
        "import numpy as np\n",
        "\n",
        "import matplotlib.pyplot as plt\n",
        "import seaborn as sns\n",
        "sns.set_style('whitegrid')\n",
        "plt.style.use(\"fivethirtyeight\")\n",
        "%matplotlib inline\n",
        "\n",
        "# For reading stock data from yahoo\n",
        "from pandas_datareader.data import DataReader\n",
        "import yfinance as yf\n",
        "\n",
        "# For time stamps\n",
        "from datetime import datetime"
      ],
      "metadata": {
        "id": "qh-qOniRkyqY"
      },
      "execution_count": null,
      "outputs": []
    },
    {
      "cell_type": "code",
      "source": [],
      "metadata": {
        "id": "X42E-WiGe2vV"
      },
      "execution_count": null,
      "outputs": []
    },
    {
      "cell_type": "code",
      "execution_count": null,
      "metadata": {
        "id": "KfDerJlS50BX"
      },
      "outputs": [],
      "source": [
        "start_date = datetime(2010, 1, 1)\n",
        "end_date = datetime(2023, 4, 5)"
      ]
    },
    {
      "cell_type": "code",
      "source": [
        "stocks_list =[\n",
        "  'AAPL',  'META',   'MSFT', 'GOOG', 'NKE',\n",
        "  'NFLX',  'ADBE',   'ZM',   'NVDA', 'HUBS',\n",
        "  'LH',    'ET',     'KBR',  'WMT',  'SYK',\n",
        "  'DE',    'APLS',   'HD',   'JBL',  'PSTG',\n",
        "  'PANW',  'SQ',     'PPL',  'ACGL', 'DDOG',\n",
        "  'GOOGL', 'ALV.DE', 'PZZA', 'STEM', 'GE',\n",
        "  'GM',    'SITM',   'BOX',  'SGEN', 'CTVA',\n",
        "  'DT',    'PLNT',   'GTLS', 'PRVA', 'DG.PA',\n",
        "  'PINS',  'CVE',    'VMC',  'GLOB', 'CPA',\n",
        "  'FTI',   'AEM',    'WCN'\n",
        "]\n",
        "for stock in stocks_list:\n",
        "    globals()[stock] = yf.download(stock, start_date, end_date)"
      ],
      "metadata": {
        "id": "9qJSELkjjp9y"
      },
      "execution_count": null,
      "outputs": []
    },
    {
      "cell_type": "code",
      "source": [
        "company_list =[\n",
        "  'AAPL',  'META',   'MSFT', 'GOOG', 'NKE',\n",
        "  'NFLX',  'ADBE',   'ZM',   'NVDA', 'HUBS',\n",
        "  'LH',    'ET',     'KBR',  'WMT',  'SYK',\n",
        "  'DE',    'APLS',   'HD',   'JBL',  'PSTG',\n",
        "  'PANW',  'SQ',     'PPL',  'ACGL', 'DDOG',\n",
        "  'GOOGL', 'ALV.DE', 'PZZA', 'STEM', 'GE',\n",
        "  'GM',    'SITM',   'BOX',  'SGEN', 'CTVA',\n",
        "  'DT',    'PLNT',   'GTLS', 'PRVA', 'DG.PA',\n",
        "  'PINS',  'CVE',    'VMC',  'GLOB', 'CPA',\n",
        "  'FTI',   'AEM',    'WCN'\n",
        "]\n",
        "\n",
        "company_name = [\n",
        "  'Apple Inc.',       'Meta',             'Microsoft',\n",
        "  'Google',           'Nike',             'Netflix',\n",
        "  'Adobe',            'Zoom Inc.',        'Nvidia',\n",
        "  'HubSpot',          'Laboratory Corp',  'Energy Transfer',\n",
        "  'KBR Inc',          'Walmart Inc.',     'Stryker Corp',\n",
        "  'Deere & Co',       'Apellis',          'Home Depot Inc.',\n",
        "  'Jabil Inc.',       'Pure Storage',     'Palo Alto',\n",
        "  'Block Inc.',       'PPL Corp',         'Arch Capital',\n",
        "  'Datadog Inc.',     'Alphabet Inc.',    'Allianz SE',\n",
        "  \"Papa John's\",      'Stem Inc.',        'General Electric',\n",
        "  'General Motors',   'SiTime Corp.',     'Box Inc.',\n",
        "  'Seagen Inc.',      'Corteva Inc.',     'Dynatrace Inc.',\n",
        "  'Planet Fitness',   'Chart Industries', 'Privia Health',\n",
        "  'Vinci S.A',        'Pinterest',        'Cenovus Energy',\n",
        "  'Vulcan Materials', 'Globant SA',       'Copa Holdings',\n",
        "  'TechnipFMC',       'Agnico Eagle',     'Waste Conn.'\n",
        "]\n",
        "\n",
        "df_list = []\n",
        "for company, com_name in zip(company_list, company_name):\n",
        "    company_df = globals()[company] # retrieve the corresponding dataframe\n",
        "    company_df[\"company_name\"] = com_name # assign the com_name variable to the company_name column of the dataframe\n",
        "    df_list.append(company_df)\n",
        "\n",
        "df = pd.concat(df_list, axis=0)\n",
        "df.tail(10)"
      ],
      "metadata": {
        "id": "yPDaXL28ozuP"
      },
      "execution_count": null,
      "outputs": []
    },
    {
      "cell_type": "code",
      "source": [
        "import json\n",
        "\n",
        "def save_volume_min_max_to_json(df, filename):\n",
        "    grouped = df.groupby('company_name')\n",
        "\n",
        "    volume_min_max_dict = {}\n",
        "\n",
        "    for company, group in grouped:\n",
        "        volume_min_max_dict[company] = {\n",
        "            'min_volume': float(group['Volume'].min()),\n",
        "            'max_volume': float(group['Volume'].max())\n",
        "        }\n",
        "\n",
        "    with open(filename, 'w') as f:\n",
        "        json.dump(volume_min_max_dict, f)\n"
      ],
      "metadata": {
        "id": "n0e7Vzx0sDQy"
      },
      "execution_count": null,
      "outputs": []
    },
    {
      "cell_type": "code",
      "source": [
        "save_volume_min_max_to_json(df, 'stocks_volume_min_max.json')"
      ],
      "metadata": {
        "id": "desJHERHsWzE"
      },
      "execution_count": null,
      "outputs": []
    },
    {
      "cell_type": "code",
      "source": [
        "df.info"
      ],
      "metadata": {
        "id": "t3H1bWTVo7z5"
      },
      "execution_count": null,
      "outputs": []
    },
    {
      "cell_type": "code",
      "execution_count": null,
      "metadata": {
        "id": "gCRrgp3c58rT"
      },
      "outputs": [],
      "source": [
        "snoppi_stocks = ['^GSPC']"
      ]
    },
    {
      "cell_type": "code",
      "execution_count": null,
      "metadata": {
        "id": "ZsnAvFiP6FV9"
      },
      "outputs": [],
      "source": [
        "!pip install yfinance\n",
        "import yfinance as yf\n",
        "\n",
        "df_snopi = yf.download(snoppi_stocks, start_date, end_date, group_by='column')\n",
        "df_snopi\n",
        "df_snopi.reset_index(level=0, inplace=True)"
      ]
    },
    {
      "cell_type": "code",
      "execution_count": null,
      "metadata": {
        "id": "HSWa5A7T6NcO"
      },
      "outputs": [],
      "source": [
        "vix_stock = ['^VIX']"
      ]
    },
    {
      "cell_type": "code",
      "execution_count": null,
      "metadata": {
        "id": "TMSiBna86Tuo"
      },
      "outputs": [],
      "source": [
        "!pip install yfinance\n",
        "import yfinance as yf\n",
        "\n",
        "df_vix = yf.download(vix_stock, start_date, end_date, group_by='column')\n",
        "df_vix\n",
        "df_vix.reset_index(level=0, inplace=True)"
      ]
    },
    {
      "cell_type": "code",
      "execution_count": null,
      "metadata": {
        "id": "V4JanJtG7k-u"
      },
      "outputs": [],
      "source": [
        "df"
      ]
    },
    {
      "cell_type": "code",
      "execution_count": null,
      "metadata": {
        "id": "T76OXDFaMGjW"
      },
      "outputs": [],
      "source": [
        "# df_apple.rename(columns = {'Open':'Open_appl','High':'High_appl','Low':'Low_appl','Close':'Close_appl','Adj Close':'Adj Close_appl','Volume':'Volume_appl'}, inplace = True)"
      ]
    },
    {
      "cell_type": "code",
      "execution_count": null,
      "metadata": {
        "id": "746-WoJpOVC5"
      },
      "outputs": [],
      "source": [
        "# df_apple"
      ]
    },
    {
      "cell_type": "code",
      "source": [
        "for i in df_snopi.index[1:]:\n",
        "    df_snopi.at[i,\"GSPC_change_in_day_Adj\"] = ((df_snopi.at[i-1,\"Adj Close\"] - df_snopi.at[i-1,\"Open\"]) / df_snopi.at[i-1,\"Adj Close\"]) * 100\n",
        "    df_snopi.at[i,\"GSPC_change_in_day\"] = ((df_snopi.at[i-1,\"Close\"] - df_snopi.at[i-1,\"Open\"]) / df_snopi.at[i-1,\"Adj Close\"]) * 100\n",
        "    df_snopi.at[i,\"GSPC_change_in_day_open_high\"] = ((df_snopi.at[i-1,\"Open\"] - df_snopi.at[i-1,\"High\"]) / df_snopi.at[i-1,\"Adj Close\"]) * 100\n",
        "    df_snopi.at[i,\"GSPC_change_in_day_open_low\"] = ((df_snopi.at[i-1,\"Open\"] - df_snopi.at[i-1,\"Low\"]) / df_snopi.at[i-1,\"Adj Close\"]) * 100\n",
        "    df_snopi.at[i,\"GSPC_change_in_day_high_low\"] = ((df_snopi.at[i-1,\"High\"] - df_snopi.at[i-1,\"Low\"]) / df_snopi.at[i-1,\"Adj Close\"]) * 100"
      ],
      "metadata": {
        "id": "p1YQg4_MaLfY"
      },
      "execution_count": null,
      "outputs": []
    },
    {
      "cell_type": "code",
      "execution_count": null,
      "metadata": {
        "id": "ZGFz3usxMegP"
      },
      "outputs": [],
      "source": [
        "df_snopi.rename(columns = {'Open':'Open_GSPC','High':'High_GSPC','Low':'Low_GSPC','Close':'Close_GSPC','Adj Close':'Adj Close_GSPC','Volume':'Volume_GSPC'}, inplace = True)"
      ]
    },
    {
      "cell_type": "code",
      "execution_count": null,
      "metadata": {
        "id": "9kSoJlf07mrR"
      },
      "outputs": [],
      "source": [
        "df_snopi"
      ]
    },
    {
      "cell_type": "code",
      "source": [
        "for i in df_vix.index[1:]:\n",
        "    df_vix.at[i,\"VIX_change_in_day_Adj\"] = ((df_vix.at[i-1,\"Adj Close\"] - df_vix.at[i-1,\"Open\"]) / df_vix.at[i-1,\"Adj Close\"]) * 100\n",
        "    df_vix.at[i,\"VIX_change_in_day\"] = ((df_vix.at[i-1,\"Close\"] - df_vix.at[i-1,\"Open\"]) / df_vix.at[i-1,\"Adj Close\"]) * 100\n",
        "    df_vix.at[i,\"VIX_change_in_day_open_high\"] = ((df_vix.at[i-1,\"Open\"] - df_vix.at[i-1,\"High\"]) / df_vix.at[i-1,\"Adj Close\"]) * 100\n",
        "    df_vix.at[i,\"VIX_change_in_day_open_low\"] = ((df_vix.at[i-1,\"Open\"] - df_vix.at[i-1,\"Low\"]) / df_vix.at[i-1,\"Adj Close\"]) * 100\n",
        "    df_vix.at[i,\"VIX_change_in_day_high_low\"] = ((df_vix.at[i-1,\"High\"] - df_vix.at[i-1,\"Low\"]) / df_vix.at[i-1,\"Adj Close\"]) * 100"
      ],
      "metadata": {
        "id": "-X3HMigOZ4wS"
      },
      "execution_count": null,
      "outputs": []
    },
    {
      "cell_type": "code",
      "execution_count": null,
      "metadata": {
        "id": "wQx6-sWn7tYY"
      },
      "outputs": [],
      "source": [
        "df_vix"
      ]
    },
    {
      "cell_type": "code",
      "execution_count": null,
      "metadata": {
        "id": "m9I49uJ8PMFm"
      },
      "outputs": [],
      "source": [
        "df_vix.rename(columns = {'Open':'Open_VIX','High':'High_VIX','Low':'Low_VIX','Close':'Close_VIX','Adj Close':'Adj Close_VIX','Volume':'Volume_VIX'}, inplace = True)"
      ]
    },
    {
      "cell_type": "code",
      "execution_count": null,
      "metadata": {
        "id": "a5UH7poSPcDp"
      },
      "outputs": [],
      "source": [
        "df_vix"
      ]
    },
    {
      "cell_type": "code",
      "execution_count": null,
      "metadata": {
        "id": "cAB64-VjRKYZ"
      },
      "outputs": [],
      "source": [
        "df = pd.merge(df,df_snopi,on='Date')"
      ]
    },
    {
      "cell_type": "code",
      "source": [
        "df"
      ],
      "metadata": {
        "id": "BNlaMNZesJyl"
      },
      "execution_count": null,
      "outputs": []
    },
    {
      "cell_type": "code",
      "execution_count": null,
      "metadata": {
        "id": "WF01KQoJSf1o"
      },
      "outputs": [],
      "source": [
        "df = pd.merge(df,df_vix,on='Date')"
      ]
    },
    {
      "cell_type": "code",
      "source": [
        "df"
      ],
      "metadata": {
        "id": "SCRNXNfuseyV"
      },
      "execution_count": null,
      "outputs": []
    },
    {
      "cell_type": "code",
      "execution_count": null,
      "metadata": {
        "id": "p8udkRfiSq7M"
      },
      "outputs": [],
      "source": [
        "df.drop(\"Volume_VIX\",axis='columns',inplace = True)"
      ]
    },
    {
      "cell_type": "code",
      "source": [
        "df"
      ],
      "metadata": {
        "id": "G1KI6-N7n7bH"
      },
      "execution_count": null,
      "outputs": []
    },
    {
      "cell_type": "code",
      "source": [
        "df = df.sort_values([\"company_name\", \"Date\"], ascending=[True, False]).reset_index(drop=True)"
      ],
      "metadata": {
        "id": "6KGS0pDb0J_R"
      },
      "execution_count": null,
      "outputs": []
    },
    {
      "cell_type": "code",
      "execution_count": null,
      "metadata": {
        "id": "EnUgdkYVTYRP"
      },
      "outputs": [],
      "source": [
        "df"
      ]
    },
    {
      "cell_type": "code",
      "source": [
        "for i in df.index[1:]:\n",
        "  if df.at[i,\"company_name\"] == df.at[i-1,\"company_name\"]:\n",
        "    df.at[i,\"stock_change_target\"] = ((df.at[i-1,\"Adj Close\"] - df.at[i,\"Adj Close\"]) / df.at[i-1,\"Adj Close\"]) * 100\n",
        "    df.at[i,\"stock_change_in_day_Adj\"] = ((df.at[i-1,\"Adj Close\"] - df.at[i-1,\"Open\"]) / df.at[i-1,\"Adj Close\"]) * 100\n",
        "    df.at[i,\"stock_change_in_day\"] = ((df.at[i-1,\"Close\"] - df.at[i-1,\"Open\"]) / df.at[i-1,\"Adj Close\"]) * 100\n",
        "    df.at[i,\"stock_change_in_day_open_high\"] = ((df.at[i-1,\"Open\"] - df.at[i-1,\"High\"]) / df.at[i-1,\"Adj Close\"]) * 100\n",
        "    df.at[i,\"stock_change_in_day_open_low\"] = ((df.at[i-1,\"Open\"] - df.at[i-1,\"Low\"]) / df.at[i-1,\"Adj Close\"]) * 100\n",
        "    df.at[i,\"stock_change_in_day_high_low\"] = ((df.at[i-1,\"High\"] - df.at[i-1,\"Low\"]) / df.at[i-1,\"Adj Close\"]) * 100\n"
      ],
      "metadata": {
        "id": "m-3X3zq91y9i"
      },
      "execution_count": null,
      "outputs": []
    },
    {
      "cell_type": "code",
      "source": [
        "df.info"
      ],
      "metadata": {
        "id": "wHe8I6enpKBr"
      },
      "execution_count": null,
      "outputs": []
    },
    {
      "cell_type": "code",
      "source": [
        "df.info()"
      ],
      "metadata": {
        "id": "vyBDXhguVt7R"
      },
      "execution_count": null,
      "outputs": []
    },
    {
      "cell_type": "code",
      "source": [
        "grouped = df.groupby('company_name')\n",
        "\n",
        "# Define the min-max normalization function\n",
        "def min_max_normalize(x):\n",
        "    return (x - x.min()) / (x.max() - x.min())\n",
        "\n",
        "# Apply the min-max normalization function to the Volume column for each group\n",
        "df['Volume_normalized'] = grouped['Volume'].apply(min_max_normalize)"
      ],
      "metadata": {
        "id": "_UuQyLz0Wf1Q"
      },
      "execution_count": null,
      "outputs": []
    },
    {
      "cell_type": "code",
      "source": [
        "from sklearn.preprocessing import MinMaxScaler\n",
        "scaler = MinMaxScaler()\n",
        "df['Volume_GSPC_normalized'] = scaler.fit_transform(df[['Volume_GSPC']])"
      ],
      "metadata": {
        "id": "aPstM4xKbnN7"
      },
      "execution_count": null,
      "outputs": []
    },
    {
      "cell_type": "code",
      "source": [
        "df"
      ],
      "metadata": {
        "id": "qeBYU2qGXA3R"
      },
      "execution_count": null,
      "outputs": []
    },
    {
      "cell_type": "code",
      "source": [
        "df.info"
      ],
      "metadata": {
        "id": "2U0a7Arekhnx"
      },
      "execution_count": null,
      "outputs": []
    },
    {
      "cell_type": "code",
      "source": [
        "ma_day = [10, 20, 50]\n",
        "\n",
        "for ma in ma_day:\n",
        "    column_name = f\"stock_MA_for_{ma}_days\"\n",
        "    df[column_name] = df['stock_change_target'].rolling(ma).mean()"
      ],
      "metadata": {
        "id": "nVZvAd7uqI5j"
      },
      "execution_count": null,
      "outputs": []
    },
    {
      "cell_type": "code",
      "source": [
        "ma_day = [10, 20, 50]\n",
        "\n",
        "for ma in ma_day:\n",
        "    column_name = f\"GSPC_MA_for_{ma}_days\"\n",
        "    df[column_name] = df['GSPC_change_in_day_Adj'].rolling(ma).mean()"
      ],
      "metadata": {
        "id": "wMlNjE7IqIyh"
      },
      "execution_count": null,
      "outputs": []
    },
    {
      "cell_type": "code",
      "source": [
        "ma_day = [10, 20, 50]\n",
        "\n",
        "for i in ma_day:\n",
        "    column_name = f\"VIX_MA_for_{ma}_days\"\n",
        "    df[column_name] = df['VIX_change_in_day_Adj'].rolling(ma).mean()\n",
        "\n"
      ],
      "metadata": {
        "id": "y2oBE6q2qIjs"
      },
      "execution_count": null,
      "outputs": []
    },
    {
      "cell_type": "code",
      "source": [
        "day_names = ['is_Monday', 'is_Tuesday', 'is_Wednesday', 'is_Thursday', 'is_Friday', 'is_Saturday', 'is_Sunday']\n",
        "\n",
        "for i, x in enumerate(day_names):\n",
        "    df[x] = df['Date'].dt.weekday.apply(lambda x: 1 if x == i else 0)"
      ],
      "metadata": {
        "id": "8-O9WgAdGuq1"
      },
      "execution_count": null,
      "outputs": []
    },
    {
      "cell_type": "code",
      "source": [
        "df"
      ],
      "metadata": {
        "id": "ZDDUCD-VMUF0"
      },
      "execution_count": null,
      "outputs": []
    },
    {
      "cell_type": "code",
      "source": [
        "for i, row in df.iterrows():\n",
        "  if df.at[i,\"stock_change_target\"]\t>= 0:\n",
        "    df.at[i,\"target\"] = 1\n",
        "  if df.at[i,\"stock_change_target\"]\t< 0:\n",
        "    df.at[i,\"target\"] = 0\n",
        "  # if df_apple_full.at[i,\"apple_change_p\"]\t>= -0.5 and df_apple_full.at[i,\"apple_change_p\"]\t<= 0.5:\n",
        "  #   df_apple_full.at[i,\"target\"] = 0"
      ],
      "metadata": {
        "id": "tXiIvX1ZMd1N"
      },
      "execution_count": null,
      "outputs": []
    },
    {
      "cell_type": "code",
      "source": [
        "df.info"
      ],
      "metadata": {
        "id": "njckTKZOrUGU"
      },
      "execution_count": null,
      "outputs": []
    },
    {
      "cell_type": "code",
      "source": [
        "dummy_df = pd.get_dummies(df[\"company_name\"], prefix=\"company\")\n",
        "\n",
        "# concatenate the dummy variables with the original dataframe\n",
        "df = pd.concat([df, dummy_df], axis=1)\n",
        "\n",
        "# drop the original \"company_name\" column\n",
        "# df.drop(\"company_name\", axis=1, inplace=True)\n",
        "\n",
        "print(df.head())"
      ],
      "metadata": {
        "id": "6mMSPSQ5rk-Y"
      },
      "execution_count": null,
      "outputs": []
    },
    {
      "cell_type": "code",
      "source": [
        "df.info"
      ],
      "metadata": {
        "id": "Rq88otrAr6g-"
      },
      "execution_count": null,
      "outputs": []
    },
    {
      "cell_type": "code",
      "source": [
        "df = df.dropna(subset=df.columns[1:], axis=0)\n",
        "\n"
      ],
      "metadata": {
        "id": "13zKZcsUsBtn"
      },
      "execution_count": null,
      "outputs": []
    },
    {
      "cell_type": "code",
      "source": [
        "df.info"
      ],
      "metadata": {
        "id": "SDPAffKJsDWW"
      },
      "execution_count": null,
      "outputs": []
    },
    {
      "cell_type": "code",
      "source": [
        "df"
      ],
      "metadata": {
        "id": "OWNm_Nb2T_Fc"
      },
      "execution_count": null,
      "outputs": []
    },
    {
      "cell_type": "code",
      "execution_count": null,
      "metadata": {
        "id": "CogqHXsFV_FQ"
      },
      "outputs": [],
      "source": [
        "df_data_for_models = df.drop(columns=['Volume','Open', 'Open_GSPC', 'High_GSPC' , 'Low_GSPC',  'High',    'Low',  'Close','Adj Close','Open',   'High',    'Low',  'Close_GSPC','Adj Close_GSPC','Open_VIX',   'High_VIX',    'Low_VIX',  'Close_VIX','Adj Close_VIX',])"
      ]
    },
    {
      "cell_type": "code",
      "source": [
        "df_data_for_models"
      ],
      "metadata": {
        "id": "YFwx8a2DlK1H"
      },
      "execution_count": null,
      "outputs": []
    },
    {
      "cell_type": "code",
      "source": [
        "df_data_for_models.info()"
      ],
      "metadata": {
        "id": "JBj0QIq0NdeV"
      },
      "execution_count": null,
      "outputs": []
    },
    {
      "cell_type": "code",
      "source": [
        "df_data_for_models = df_data_for_models.dropna()"
      ],
      "metadata": {
        "id": "ONIv6Fik6CBp"
      },
      "execution_count": null,
      "outputs": []
    },
    {
      "cell_type": "code",
      "source": [
        "X = df_data_for_models.drop('target', axis=1)\n",
        "y = df_data_for_models.target"
      ],
      "metadata": {
        "id": "9kUtJmkXJyyU"
      },
      "execution_count": null,
      "outputs": []
    },
    {
      "cell_type": "code",
      "source": [
        "X"
      ],
      "metadata": {
        "id": "cuaK-Pn6FXfN"
      },
      "execution_count": null,
      "outputs": []
    },
    {
      "cell_type": "code",
      "source": [
        "y"
      ],
      "metadata": {
        "id": "wGOpqhivH1FM"
      },
      "execution_count": null,
      "outputs": []
    },
    {
      "cell_type": "code",
      "source": [
        "X_scaled= df_data_for_models.drop(columns=['Date', \"company_name\",'target','stock_change_target'])\n",
        "y = df_data_for_models['target']"
      ],
      "metadata": {
        "id": "P8xUigXbQKwX"
      },
      "execution_count": null,
      "outputs": []
    },
    {
      "cell_type": "code",
      "source": [
        "from sklearn.model_selection import train_test_split\n",
        "X_train, X_test, y_train, y_test = train_test_split(X_scaled, y, test_size=0.3, random_state=1234)\n",
        "train_df = pd.merge(left=X_train, right=y_train, left_index=True, right_index=True)\n",
        "test_df = pd.merge(left=X_test, right=y_test, left_index=True, right_index=True)\n",
        "train_df.head(10)"
      ],
      "metadata": {
        "id": "isGLfvZg3jOb"
      },
      "execution_count": null,
      "outputs": []
    },
    {
      "cell_type": "code",
      "source": [
        "from sklearn import preprocessing"
      ],
      "metadata": {
        "id": "g9pokXhT4WqH"
      },
      "execution_count": null,
      "outputs": []
    },
    {
      "cell_type": "code",
      "source": [
        "encoder = preprocessing.LabelEncoder()\n",
        "\n",
        "# encoding train labels\n",
        "encoder.fit(y_train)\n",
        "y_train_n = encoder.transform(y_train)\n",
        "\n",
        "# encoding test labels\n",
        "encoder.fit(y_test)\n",
        "y_test_n = encoder.transform(y_test)\n",
        "print(y_test[0:5].to_list())\n",
        "print(y_test_n[0:5])"
      ],
      "metadata": {
        "id": "0BVJRxEr4CFQ"
      },
      "execution_count": null,
      "outputs": []
    },
    {
      "cell_type": "code",
      "source": [
        "X_train.info()"
      ],
      "metadata": {
        "id": "tVCrF4i6ONIA"
      },
      "execution_count": null,
      "outputs": []
    },
    {
      "cell_type": "code",
      "source": [
        "X_test.info()"
      ],
      "metadata": {
        "id": "9Q_QSHGlNKQI"
      },
      "execution_count": null,
      "outputs": []
    },
    {
      "cell_type": "code",
      "source": [
        "X = df_data_for_models.drop(columns=['Date',\"company_name\", 'target','stock_change_target'])\n",
        "y = df_data_for_models['target']"
      ],
      "metadata": {
        "id": "qf072Y6hPR7y"
      },
      "execution_count": null,
      "outputs": []
    },
    {
      "cell_type": "code",
      "source": [
        "X"
      ],
      "metadata": {
        "id": "7y4rpeKzQQho"
      },
      "execution_count": null,
      "outputs": []
    },
    {
      "cell_type": "code",
      "source": [
        "from sklearn.model_selection import train_test_split\n",
        "X_train, X_test, y_train, y_test = train_test_split(X_scaled, y, test_size=0.3, random_state=42)\n",
        "train_df = pd.merge(left=X_train, right=y_train, left_index=True, right_index=True)\n",
        "test_df = pd.merge(left=X_test, right=y_test, left_index=True, right_index=True)\n",
        "train_df.head(5)"
      ],
      "metadata": {
        "id": "wtBIsr3OPOV0"
      },
      "execution_count": null,
      "outputs": []
    },
    {
      "cell_type": "code",
      "source": [
        "from sklearn.neighbors import KNeighborsClassifier"
      ],
      "metadata": {
        "id": "iDm5tlQsRxcs"
      },
      "execution_count": null,
      "outputs": []
    },
    {
      "cell_type": "code",
      "source": [
        "from sklearn.metrics import classification_report, confusion_matrix, ConfusionMatrixDisplay"
      ],
      "metadata": {
        "id": "xx9urFDKSI4g"
      },
      "execution_count": null,
      "outputs": []
    },
    {
      "cell_type": "code",
      "source": [
        "from sklearn.ensemble import RandomForestClassifier\n",
        "rfc = RandomForestClassifier(n_estimators=30,criterion='entropy')"
      ],
      "metadata": {
        "id": "NbG8kFvOCRkI"
      },
      "execution_count": null,
      "outputs": []
    },
    {
      "cell_type": "code",
      "source": [
        "rfc.fit(X_train,y_train)"
      ],
      "metadata": {
        "id": "TUWnbOZhCUhb"
      },
      "execution_count": null,
      "outputs": []
    },
    {
      "cell_type": "code",
      "source": [
        "y_predict = rfc.predict(X_test)"
      ],
      "metadata": {
        "id": "4cX-tHcCCW2s"
      },
      "execution_count": null,
      "outputs": []
    },
    {
      "cell_type": "code",
      "source": [
        "print(confusion_matrix(y_test,y_predict))\n",
        "print('----------------------------------------------------------')\n",
        "print(classification_report(y_test,y_predict))"
      ],
      "metadata": {
        "id": "bssqmX10CX99"
      },
      "execution_count": null,
      "outputs": []
    },
    {
      "cell_type": "code",
      "source": [
        "# from sklearn.model_selection import cross_val_score\n",
        "# auc_scores = cross_val_score(rfc, X, y, cv=10, scoring='roc_auc')\n",
        "# auc_scores"
      ],
      "metadata": {
        "id": "K8DA-gLGCZYc"
      },
      "execution_count": null,
      "outputs": []
    },
    {
      "cell_type": "code",
      "source": [
        "# accuracy_scores = cross_val_score(rfc, X, y, cv=10, scoring='accuracy')\n",
        "# accuracy_scores"
      ],
      "metadata": {
        "id": "uHnf6k5hCa0t"
      },
      "execution_count": null,
      "outputs": []
    },
    {
      "cell_type": "code",
      "source": [
        "# print('Mean values')\n",
        "# print('auc:', auc_scores.mean())\n",
        "# print('accuracy: ', accuracy_scores.mean())\n"
      ],
      "metadata": {
        "id": "Q_1ZTmSWCbwk"
      },
      "execution_count": null,
      "outputs": []
    },
    {
      "cell_type": "markdown",
      "source": [],
      "metadata": {
        "id": "TZQjvie2eWsM"
      }
    },
    {
      "cell_type": "code",
      "source": [
        "train_df['predicted_y'] = rfc.predict(X_train)\n",
        "test_df['predicted_y'] = rfc.predict(X_test)"
      ],
      "metadata": {
        "id": "hsTKE0gDeYQC"
      },
      "execution_count": null,
      "outputs": []
    },
    {
      "cell_type": "code",
      "source": [
        "# Create new dataframes with train and test data\n",
        "df_rf_s_train = pd.concat([df_data_for_models, pd.DataFrame(rfc.predict(X_train), index=X_train.index, columns=['predicted_y'])], axis=1)\n",
        "df_rf_s_test = pd.concat([test_df, pd.DataFrame(rfc.predict(X_test), index=X_test.index, columns=['predicted_y'])], axis=1)\n"
      ],
      "metadata": {
        "id": "6jXZSC-cijb9"
      },
      "execution_count": null,
      "outputs": []
    },
    {
      "cell_type": "code",
      "source": [
        "\n",
        "# make predictions on training and test data\n",
        "train_preds = rfc.predict(X_train)\n",
        "test_preds = rfc.predict(X_test)\n",
        "\n",
        "# create a column for predicted values in original dataframe\n",
        "df_data_for_models['predicted_y'] = np.concatenate((train_preds, test_preds), axis=0)\n"
      ],
      "metadata": {
        "id": "EkzISPoWmy6O"
      },
      "execution_count": null,
      "outputs": []
    },
    {
      "cell_type": "code",
      "source": [
        "import pandas as pd\n",
        "\n",
        "# create the id_name table\n",
        "id_name = pd.DataFrame({\n",
        "    'id': [1, 3, 4, 5, 6, 7, 8, 9, 11, 12, 13, 14, 15, 16, 17, 18, 19, 20, 21, 22, 23, 24, 25, 26, 27, 28, 29, 30, 31, 32, 33, 34, 35, 36, 37, 38, 39, 40, 41, 42, 43, 44, 45, 46, 47, 48, 49, 50],\n",
        "    'company_name': ['Apple Inc.', 'Meta', 'Microsoft', 'Google', 'Nike', 'Netflix', 'Adobe', 'Zoom Inc.', 'Nvidia', 'HubSpot', 'Laboratory Corp', 'Energy Transfer', 'KBR Inc', 'Walmart Inc.', 'Stryker Corp', 'Deere & Co', 'Apellis', 'Home Depot Inc.', 'Jabil Inc.', 'Pure Storage', 'Palo Alto', 'Block Inc.', 'PPL Corp', 'Arch Capital', 'Datadog Inc.', 'Alphabet Inc.', 'Allianz SE', 'Papa John\\'s', 'Stem Inc.', 'General Electric', 'General Motors', 'SiTime Corp.', 'Box Inc.', 'Seagen Inc.', 'Corteva Inc.', 'Dynatrace Inc.', 'Planet Fitness', 'Chart Industries', 'Privia Health', 'Vinci S.A', 'Pinterest', 'Cenovus Energy', 'Vulcan Materials', 'Globant SA', 'Copa Holdings', 'TechnipFMC', 'Agnico Eagle', 'Waste Conn.']\n",
        "})\n",
        "\n",
        "# merge the two tables on the \"name\" column\n",
        "df_data_for_models = pd.merge(df_data_for_models, id_name, on='company_name')\n",
        "\n",
        "# print the updated table\n",
        "print(df_data_for_models)\n"
      ],
      "metadata": {
        "id": "oQtMlXV30EcC"
      },
      "execution_count": null,
      "outputs": []
    },
    {
      "cell_type": "code",
      "source": [
        "df_data_for_models"
      ],
      "metadata": {
        "id": "2vjTPCMUm1b8"
      },
      "execution_count": null,
      "outputs": []
    },
    {
      "cell_type": "code",
      "source": [
        "df_data_for_models.info()"
      ],
      "metadata": {
        "id": "kHhROgAMiGn6"
      },
      "execution_count": null,
      "outputs": []
    },
    {
      "cell_type": "markdown",
      "source": [],
      "metadata": {
        "id": "8LnkwDKmeWWO"
      }
    },
    {
      "cell_type": "code",
      "source": [
        "!pip install mysql\n",
        "!pip install mysql-connector-python\n",
        "\n",
        "import mysql.connector\n",
        "\n",
        "mydb = mysql.connector.connect(\n",
        "  host='45.136.70.170',\n",
        "  user='stockmaven_dev',\n",
        "  password='fnSvAh79baKF'\n",
        ")\n",
        "\n",
        "print(mydb)"
      ],
      "metadata": {
        "id": "rFdvNXRdjRUb"
      },
      "execution_count": null,
      "outputs": []
    },
    {
      "cell_type": "code",
      "source": [
        "mycursor = mydb.cursor()\n",
        "\n",
        "mycursor.execute(\"SHOW DATABASES\")\n",
        "\n",
        "for x in mycursor:\n",
        "  print(x)"
      ],
      "metadata": {
        "id": "fmR9dpf2kRmV"
      },
      "execution_count": null,
      "outputs": []
    },
    {
      "cell_type": "code",
      "source": [
        "import mysql.connector\n",
        "\n",
        "mydb = mysql.connector.connect(\n",
        "  host='45.136.70.170',\n",
        "  user='stockmaven_dev',\n",
        "  password='fnSvAh79baKF',\n",
        "  database=\"stockmaven_dev\"\n",
        ")\n",
        "\n",
        "mycursor = mydb.cursor()\n",
        "\n",
        "mycursor.execute(\"SHOW TABLES\")\n",
        "\n",
        "for x in mycursor:\n",
        "  print(x)"
      ],
      "metadata": {
        "id": "Ay2khNB6kgeH"
      },
      "execution_count": null,
      "outputs": []
    },
    {
      "cell_type": "code",
      "source": [
        "import mysql.connector\n",
        "from mysql.connector import Error\n",
        "\n",
        "# Connect to the MySQL database\n",
        "try:\n",
        "    mydb = mysql.connector.connect(\n",
        "        host='45.136.70.170',\n",
        "        user='stockmaven_dev',\n",
        "        password='fnSvAh79baKF',\n",
        "        database=\"stockmaven_dev\"\n",
        "    )\n",
        "\n",
        "    mycursor = mydb.cursor()\n",
        "\n",
        "    # Execute the SELECT statement\n",
        "    mycursor.execute(\"SELECT * FROM stock_prediction\")\n",
        "\n",
        "    # Fetch all rows from the result\n",
        "    rows = mycursor.fetchall()\n",
        "\n",
        "    # Print the fetched rows\n",
        "    for row in rows:\n",
        "        print(row)\n",
        "\n",
        "except Error as e:\n",
        "    print(\"Error connecting to MySQL database:\", e)\n",
        "\n",
        "finally:\n",
        "    # Close the database connection\n",
        "    if mydb.is_connected():\n",
        "        mycursor.close()\n",
        "        mydb.close()\n"
      ],
      "metadata": {
        "id": "pRZtQq45Rnp8"
      },
      "execution_count": null,
      "outputs": []
    },
    {
      "cell_type": "code",
      "source": [
        "mycursor.execute(\"SELECT * FROM stock_prediction\")\n",
        "\n",
        "# Fetch all rows from the result\n",
        "rows = mycursor.fetchall()\n",
        "\n",
        "# Print the fetched rows\n",
        "for row in rows:\n",
        "    print(row)"
      ],
      "metadata": {
        "id": "xTO0oths1Di8"
      },
      "execution_count": null,
      "outputs": []
    },
    {
      "cell_type": "code",
      "source": [
        "import mysql.connector\n",
        "from mysql.connector import Error\n",
        "\n",
        "# Connect to the MySQL database\n",
        "try:\n",
        "    mydb = mysql.connector.connect(\n",
        "        host='45.136.70.170',\n",
        "        user='stockmaven_dev',\n",
        "        password='fnSvAh79baKF',\n",
        "        database=\"stockmaven_dev\"\n",
        "    )\n",
        "\n",
        "    mycursor = mydb.cursor()\n",
        "\n",
        "    # Iterate over each row in the DataFrame\n",
        "    for index, row in df_data_for_models.iterrows():\n",
        "      try:\n",
        "        # Extract the necessary values from the DataFrame\n",
        "        prediction = row['predicted_y']\n",
        "        stockid  = row['id']\n",
        "        date = row['Date']\n",
        "\n",
        "        # Prepare the INSERT query\n",
        "        sql = \"INSERT INTO stock_prediction (prediction, stockid, date) VALUES (%s, %s, %s)\"\n",
        "        values = (prediction, stockid, date )\n",
        "\n",
        "        # Execute the INSERT query\n",
        "        mycursor.execute(sql, values)\n",
        "        mydb.commit()\n",
        "        print(\"Data inserted successfully!\")\n",
        "      except Error as e:\n",
        "        print(\"Error inserting row:\", e)\n",
        "        continue\n",
        "\n",
        "\n",
        "    # Commit the changes to the database\n",
        "    # mydb.commit()\n",
        "    # print(\"Data inserted successfully!\")\n",
        "\n",
        "except Error as e:\n",
        "    print(\"Error connecting to MySQL database:\", e)\n",
        "\n",
        "finally:\n",
        "    # Close the database connection\n",
        "    if mydb.is_connected():\n",
        "        mycursor.close()\n",
        "        mydb.close()\n"
      ],
      "metadata": {
        "id": "B4hbgLj91HjM"
      },
      "execution_count": null,
      "outputs": []
    }
  ],
  "metadata": {
    "colab": {
      "provenance": [],
      "private_outputs": true
    },
    "kernelspec": {
      "display_name": "Python 3",
      "name": "python3"
    },
    "language_info": {
      "name": "python"
    },
    "gpuClass": "standard"
  },
  "nbformat": 4,
  "nbformat_minor": 0
}